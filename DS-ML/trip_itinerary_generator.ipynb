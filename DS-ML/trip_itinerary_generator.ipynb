{
 "cells": [
  {
   "cell_type": "code",
   "execution_count": 1,
   "id": "a3a11cd4",
   "metadata": {},
   "outputs": [],
   "source": [
    "import numpy as np\n",
    "import pandas as pd\n",
    "import pickle\n",
    "import random\n",
    "import tkinter as tk\n",
    "from sklearn.feature_extraction.text import TfidfVectorizer\n",
    "from sklearn.metrics.pairwise import linear_kernel"
   ]
  },
  {
   "cell_type": "code",
   "execution_count": 2,
   "id": "e4184798",
   "metadata": {},
   "outputs": [],
   "source": [
    "hotel = pd.read_csv(\"hotels_in_ethiopia_data.csv\")\n",
    "restaurant = pd.read_csv(\"restaurants_in_ethiopia.csv\")\n",
    "attraction = pd.read_csv(\"attractions_in_ethiopia_edited_data.csv\")"
   ]
  },
  {
   "cell_type": "markdown",
   "id": "9e290262",
   "metadata": {},
   "source": [
    "# DATA CLEANING AND FEATURE ENGINEERING"
   ]
  },
  {
   "cell_type": "code",
   "execution_count": 3,
   "id": "9f617986",
   "metadata": {
    "scrolled": true
   },
   "outputs": [],
   "source": [
    "del attraction['Image_url']\n",
    "del attraction['Offer_price']\n",
    "del attraction['Offer_primary_category']"
   ]
  },
  {
   "cell_type": "code",
   "execution_count": 4,
   "id": "02db1143",
   "metadata": {},
   "outputs": [],
   "source": [
    "columns_to_drop = ['original_location', 'tags', 'opening_hours',\n",
    "                   'reviews_distribution', 'ratings_distribution', 'popularity',\n",
    "                   'awards', 'claimed', 'address', 'zip_code', 'country',\n",
    "                   'image', 'meals', 'review_count', 'website', 'longitude',\n",
    "                   'latitude', 'price_range', 'about', 'url', 'timestamp', 'email', 'phone']\n",
    "\n",
    "restaurant = restaurant.drop(columns=columns_to_drop)\n",
    "restaurant = restaurant.rename(columns={'city': 'Location'})\n",
    "restaurant = restaurant.rename(columns={'cuisine': 'Cuisine'})\n",
    "attraction = attraction.rename(columns={'Attraction_subcategory': 'Interests'})"
   ]
  },
  {
   "cell_type": "code",
   "execution_count": 5,
   "id": "2f363dd2",
   "metadata": {},
   "outputs": [],
   "source": [
    "hotel = hotel[['Hotel', 'Location']]\n",
    "restaurant = restaurant[['Restaurant', 'Location', 'Cuisine']]\n",
    "attraction = attraction[['Location', 'Interests', 'Activities']]"
   ]
  },
  {
   "cell_type": "code",
   "execution_count": 6,
   "id": "023b16ae",
   "metadata": {},
   "outputs": [],
   "source": [
    "merged_data = hotel.merge(restaurant, on='Location', how='inner')\n",
    "merged_data = merged_data.merge(attraction, on='Location', how='inner')"
   ]
  },
  {
   "cell_type": "code",
   "execution_count": 7,
   "id": "998315a1",
   "metadata": {},
   "outputs": [
    {
     "data": {
      "text/html": [
       "<div>\n",
       "<style scoped>\n",
       "    .dataframe tbody tr th:only-of-type {\n",
       "        vertical-align: middle;\n",
       "    }\n",
       "\n",
       "    .dataframe tbody tr th {\n",
       "        vertical-align: top;\n",
       "    }\n",
       "\n",
       "    .dataframe thead th {\n",
       "        text-align: right;\n",
       "    }\n",
       "</style>\n",
       "<table border=\"1\" class=\"dataframe\">\n",
       "  <thead>\n",
       "    <tr style=\"text-align: right;\">\n",
       "      <th></th>\n",
       "      <th>Location</th>\n",
       "      <th>Hotel</th>\n",
       "      <th>Restaurant</th>\n",
       "      <th>Cuisine</th>\n",
       "      <th>Interests</th>\n",
       "      <th>Activities</th>\n",
       "    </tr>\n",
       "  </thead>\n",
       "  <tbody>\n",
       "    <tr>\n",
       "      <th>0</th>\n",
       "      <td>Addis Ababa</td>\n",
       "      <td>Capital Hotel And Spa</td>\n",
       "      <td>The Kitchen</td>\n",
       "      <td>Mediterranean, Healthy, Middle Eastern</td>\n",
       "      <td>Sights &amp; Landmarks</td>\n",
       "      <td>Explore the Danakil Depression in 6 Days</td>\n",
       "    </tr>\n",
       "    <tr>\n",
       "      <th>1</th>\n",
       "      <td>Addis Ababa</td>\n",
       "      <td>Capital Hotel And Spa</td>\n",
       "      <td>The Kitchen</td>\n",
       "      <td>Mediterranean, Healthy, Middle Eastern</td>\n",
       "      <td>History</td>\n",
       "      <td>Discover Red Terror Martyrs Memorial Museum</td>\n",
       "    </tr>\n",
       "    <tr>\n",
       "      <th>2</th>\n",
       "      <td>Addis Ababa</td>\n",
       "      <td>Capital Hotel And Spa</td>\n",
       "      <td>The Kitchen</td>\n",
       "      <td>Mediterranean, Healthy, Middle Eastern</td>\n",
       "      <td>Nature &amp; Wildlife</td>\n",
       "      <td>Mount Entoto Full Day Tour with Hotel Pickup a...</td>\n",
       "    </tr>\n",
       "    <tr>\n",
       "      <th>3</th>\n",
       "      <td>Addis Ababa</td>\n",
       "      <td>Capital Hotel And Spa</td>\n",
       "      <td>The Kitchen</td>\n",
       "      <td>Mediterranean, Healthy, Middle Eastern</td>\n",
       "      <td>Sights &amp; Landmarks</td>\n",
       "      <td>Day trip to Adadi Mariyam and Melka kunture</td>\n",
       "    </tr>\n",
       "    <tr>\n",
       "      <th>4</th>\n",
       "      <td>Addis Ababa</td>\n",
       "      <td>Capital Hotel And Spa</td>\n",
       "      <td>The Kitchen</td>\n",
       "      <td>Mediterranean, Healthy, Middle Eastern</td>\n",
       "      <td>History</td>\n",
       "      <td>Full Day Tour of National Museum of Ethiopia w...</td>\n",
       "    </tr>\n",
       "  </tbody>\n",
       "</table>\n",
       "</div>"
      ],
      "text/plain": [
       "      Location                  Hotel   Restaurant  \\\n",
       "0  Addis Ababa  Capital Hotel And Spa  The Kitchen   \n",
       "1  Addis Ababa  Capital Hotel And Spa  The Kitchen   \n",
       "2  Addis Ababa  Capital Hotel And Spa  The Kitchen   \n",
       "3  Addis Ababa  Capital Hotel And Spa  The Kitchen   \n",
       "4  Addis Ababa  Capital Hotel And Spa  The Kitchen   \n",
       "\n",
       "                                  Cuisine           Interests  \\\n",
       "0  Mediterranean, Healthy, Middle Eastern  Sights & Landmarks   \n",
       "1  Mediterranean, Healthy, Middle Eastern             History   \n",
       "2  Mediterranean, Healthy, Middle Eastern   Nature & Wildlife   \n",
       "3  Mediterranean, Healthy, Middle Eastern  Sights & Landmarks   \n",
       "4  Mediterranean, Healthy, Middle Eastern             History   \n",
       "\n",
       "                                          Activities  \n",
       "0           Explore the Danakil Depression in 6 Days  \n",
       "1        Discover Red Terror Martyrs Memorial Museum  \n",
       "2  Mount Entoto Full Day Tour with Hotel Pickup a...  \n",
       "3        Day trip to Adadi Mariyam and Melka kunture  \n",
       "4  Full Day Tour of National Museum of Ethiopia w...  "
      ]
     },
     "execution_count": 7,
     "metadata": {},
     "output_type": "execute_result"
    }
   ],
   "source": [
    "merged_data = merged_data[['Location', 'Hotel', 'Restaurant', 'Cuisine', 'Interests',\n",
    "       'Activities']]\n",
    "merged_data.head()"
   ]
  },
  {
   "cell_type": "code",
   "execution_count": 8,
   "id": "40329fcb",
   "metadata": {},
   "outputs": [
    {
     "name": "stdout",
     "output_type": "stream",
     "text": [
      "<class 'pandas.core.frame.DataFrame'>\n",
      "RangeIndex: 7849 entries, 0 to 7848\n",
      "Data columns (total 6 columns):\n",
      " #   Column      Non-Null Count  Dtype \n",
      "---  ------      --------------  ----- \n",
      " 0   Location    7849 non-null   object\n",
      " 1   Hotel       7849 non-null   object\n",
      " 2   Restaurant  7849 non-null   object\n",
      " 3   Cuisine     7323 non-null   object\n",
      " 4   Interests   7849 non-null   object\n",
      " 5   Activities  7849 non-null   object\n",
      "dtypes: object(6)\n",
      "memory usage: 368.1+ KB\n"
     ]
    }
   ],
   "source": [
    "merged_data.info()"
   ]
  },
  {
   "cell_type": "markdown",
   "id": "0b15bc45",
   "metadata": {},
   "source": [
    "# DICTIONARY"
   ]
  },
  {
   "cell_type": "code",
   "execution_count": 9,
   "id": "243887c8",
   "metadata": {
    "scrolled": true
   },
   "outputs": [
    {
     "name": "stdout",
     "output_type": "stream",
     "text": [
      "['Addis Ababa' 'Mekele' 'Axum' 'Harar' 'Bahirdar' 'Lalibela' 'Adigrat']\n"
     ]
    }
   ],
   "source": [
    "unique_locations = merged_data['Location'].unique()\n",
    "print(unique_locations)\n"
   ]
  },
  {
   "cell_type": "code",
   "execution_count": 10,
   "id": "431efa87",
   "metadata": {},
   "outputs": [
    {
     "name": "stdout",
     "output_type": "stream",
     "text": [
      "['Sights & Landmarks' 'History' 'Nature & Wildlife' 'Adventure']\n"
     ]
    }
   ],
   "source": [
    "unique_interest = merged_data['Interests'].unique()\n",
    "print(unique_interest)\n"
   ]
  },
  {
   "cell_type": "code",
   "execution_count": 11,
   "id": "d13391ba",
   "metadata": {},
   "outputs": [
    {
     "name": "stdout",
     "output_type": "stream",
     "text": [
      "{'B&B The Annex', 'Rahnile Hotel', 'Teferi Mokonnen Hotel', 'Blue Nile Resort', 'Water Front Hotel', 'Wynn Hotel', 'Jacaranda Hotel', 'Lakemark Hotel', 'Addis Amba Hotel', 'Delano Hotel & Spa'}\n"
     ]
    }
   ],
   "source": [
    "hotels_and_locations = {}\n",
    "\n",
    "for index, row in merged_data.iterrows():\n",
    "    location = row['Location']\n",
    "    hotel = row['Hotel']\n",
    "\n",
    "    if location not in hotels_and_locations:\n",
    "        hotels_and_locations[location] = set()  \n",
    "\n",
    "    hotels_and_locations[location].add(hotel)\n",
    "\n",
    "unique_hotels = hotels_and_locations.get('Bahirdar', set())\n",
    "print(unique_hotels)\n"
   ]
  },
  {
   "cell_type": "code",
   "execution_count": 12,
   "id": "33c96634",
   "metadata": {},
   "outputs": [
    {
     "name": "stdout",
     "output_type": "stream",
     "text": [
      "{'Abinet Hotel', 'AB Cultural Restaurant', 'Central Cafe Pastry and Restaurant', 'AB Restaurant', 'Antica Special Cultural Restaurant', 'Yeha Hotel', 'Lucy Traditional Restaurant', 'Aksum Classical Restaurant', 'Kuda Juice & Pizzeria', 'Lucy Cultural Restaurant', 'Africa Hotel'}\n"
     ]
    }
   ],
   "source": [
    "restaurants_and_locations = {}\n",
    "\n",
    "for index, row in merged_data.iterrows():\n",
    "    location = row['Location']\n",
    "    restaurant = row['Restaurant']\n",
    "\n",
    "    if location not in restaurants_and_locations:\n",
    "        restaurants_and_locations[location] = set() \n",
    "\n",
    "    restaurants_and_locations[location].add(restaurant)\n",
    "\n",
    "unique_restaurant = restaurants_and_locations.get('Axum', set())\n",
    "print(unique_restaurant)"
   ]
  },
  {
   "cell_type": "code",
   "execution_count": 13,
   "id": "4fe62c51",
   "metadata": {},
   "outputs": [
    {
     "data": {
      "text/plain": [
       "'Four (4) Days tour of Lake Assale'"
      ]
     },
     "execution_count": 13,
     "metadata": {},
     "output_type": "execute_result"
    }
   ],
   "source": [
    "'Two Days Tour of Gheralta Rock', 'Bahir Dar Tour of Lake Tana', 'Mount Entoto Full Day Tour with Hotel Pickup and Drop-off', \n",
    "'Day Trip To Menagesha Suba Forest', '4-Day Abune Yosef Conservation Area Trekking Tour from Lalibela', 'Day Trip To Gullele Botanical Garden', \n",
    "'Four (4) Days tour of Lake Assale'"
   ]
  },
  {
   "cell_type": "code",
   "execution_count": 14,
   "id": "0524a603",
   "metadata": {},
   "outputs": [
    {
     "name": "stdout",
     "output_type": "stream",
     "text": [
      "{'Addis Ababa City Tour to Menelik palace', 'Full Day Private Tour of to Meskel Square', 'Discover the Specialty PanAfrican museum located in Addis Ababas historic Arada district Expect a truly one of a kind memorable experience', 'See Zoma Museum', 'Explore the Danakil Depression in 6 Days', 'Full Day Tour of National Museum of Ethiopia with Hotel Pickup and Dropoff', 'Addis Ababa Ethnological Museum Tour', 'Addis Ababa City Danakil Depression Tours', 'Discover Red Terror Martyrs Memorial Museum', 'Learn about nature and Ethiopian history and culture at Unity Park Addis Ababa with Hotel Pickup & Dropoff Included', 'Adventure Theme Park at Kuriftu Resort Entoto', 'Visit The Mausoleum of Menelik II', 'Visit to Entoto Maryam Church', 'Mount Entoto Full Day Tour with Hotel Pickup and Dropoff', 'Ethio North Trekking Come and discover the thrills of Ethiopia with Bale Mountains', 'Addis Ababa Guided City Tour With Airport & Hotel Pick Up', 'Rent a car and drive to Portuguese Bridge (110km from Addis Ababa)', 'Addis Ababa Guided Museum Tour With Hotel Pick Up', 'Visit Karls Square', 'Full Day Tour of Yekatit 12 Martyrs Square with Hotel Pickup and Dropoff', 'Day trip to Adadi Mariyam and Melka kunture', 'Day Trip To Gullele Botanical Garden', 'Horseriding experience in the hills surrounding Addis Ababa Come to the ranch to explore nature in its best on trails through the forest learn how to ride or simply get away from the city for a bit Nestled in the Sululta hills 4 kilometers above the capital city with 5 hectares of land', 'Some outdoor activities with Abyssinia Balloon rides', 'Day Trip To Menagesha Suba Forest'}\n"
     ]
    }
   ],
   "source": [
    "activities_and_locations = {}\n",
    "\n",
    "for index, row in merged_data.iterrows():\n",
    "    location = row['Location']\n",
    "    activity = row['Activities']\n",
    "\n",
    "    if location not in activities_and_locations:\n",
    "        activities_and_locations[location] = set()  \n",
    "\n",
    "    activities_and_locations[location].add(activity)\n",
    "\n",
    "unique_activities = activities_and_locations.get('Addis Ababa', set())\n",
    "print(unique_activities)"
   ]
  },
  {
   "cell_type": "code",
   "execution_count": 15,
   "id": "e35e159e",
   "metadata": {},
   "outputs": [
    {
     "name": "stdout",
     "output_type": "stream",
     "text": [
      "{'Visit Monastery of Debre Mariam', 'Visit The Tomb of Adam', 'Lalibela Omo Valley and Harrar tour to see Harar Jegol Wall', 'Explore North Ethiopia Visit Church of Our Lady Mary of Zion', 'Full Day Private Tour of to Meskel Square', 'Visit Bilbala St George Rock Hewn Church', 'Visit Azwa Mariam Monastery', 'Visit Biete Medhane Alem', 'Go see The Martyrs Memorial Monument', 'Visit Joel Harar Tour', 'Explore the Danakil Depression in 6 Days', 'Visit Rock Hewn Churches', 'Lalibela Rock Churches Guided Tour', 'Visit Monastery of Na’akuto La’ab', 'Visit The Mausoleum of Menelik II', 'Addis Ababa Guided City Tour With Airport & Hotel Pick Up', 'Visit Karls Square', 'Full Day Tour of Yekatit 12 Martyrs Square with Hotel Pickup and Dropoff', 'Day trip to Adadi Mariyam and Melka kunture', 'Discover The Tombs of Kings Kaleb and Gebre Meskal', 'Explore North Ethiopia Discover King Ezanas Inscription'}\n"
     ]
    }
   ],
   "source": [
    "activities_and_interests = {}\n",
    "\n",
    "for index, row in merged_data.iterrows():\n",
    "    interest = row['Interests']\n",
    "    activity = row['Activities']\n",
    "\n",
    "    if interest not in activities_and_interests:\n",
    "        activities_and_interests[interest] = set()\n",
    "\n",
    "    activities_and_interests[interest].add(activity)\n",
    "\n",
    "unique_activities_by_interest = activities_and_interests.get('Sights & Landmarks', set())\n",
    "print(unique_activities_by_interest)\n"
   ]
  },
  {
   "cell_type": "code",
   "execution_count": 16,
   "id": "fc31652a",
   "metadata": {},
   "outputs": [
    {
     "name": "stdout",
     "output_type": "stream",
     "text": [
      "{'History'}\n"
     ]
    }
   ],
   "source": [
    "interests_and_locations = {}\n",
    "\n",
    "for index, row in merged_data.iterrows():\n",
    "    location = row['Location']\n",
    "    interest = row['Interests']\n",
    "\n",
    "    if location not in interests_and_locations:\n",
    "        interests_and_locations[location] = set()  \n",
    "\n",
    "    interests_and_locations[location].add(interest)\n",
    "\n",
    "unique_interests = interests_and_locations.get('Adigrat', set())\n",
    "print(unique_interests)"
   ]
  },
  {
   "cell_type": "markdown",
   "id": "d26c0276",
   "metadata": {},
   "source": [
    "# TRIP ITINERARY GENERATOR WITH HOTEL AND RESTAURANT RECOMMENDATION"
   ]
  },
  {
   "cell_type": "code",
   "execution_count": 21,
   "id": "92229dc6",
   "metadata": {},
   "outputs": [
    {
     "name": "stdout",
     "output_type": "stream",
     "text": [
      "🌍 Welcome to your exciting trip to Addis Ababa! 🌍\n",
      "Here's your personalized travel itinerary:\n",
      "----------------------------------------\n",
      "🗓️ Day 1 - Addis Ababa Adventures:\n",
      "🏨 Hotel: Stay at Capital Hotel And Spa\n",
      "🍽️ Lunch: Eat at Kategna Restaurant\n",
      "🎉 Activity: See Zoma Museum\n",
      "🍽️ Dinner: Have dinner at Kategna Restaurant\n",
      "----------------------------------------\n",
      "🗓️ Day 2 - Addis Ababa Adventures:\n",
      "🏨 Hotel: Stay at Intercontinental Hotel\n",
      "🍽️ Lunch: Eat at Gazebo Restaurant on the Park\n",
      "🎉 Activity: Visit to Entoto Maryam Church\n",
      "🍽️ Dinner: Have dinner at Gazebo Restaurant on the Park\n",
      "----------------------------------------\n",
      "🗓️ Day 3 - Addis Ababa Adventures:\n",
      "🏨 Hotel: Stay at Heyday Hotel\n",
      "🍽️ Lunch: Eat at Makush Art Gallery & Italian Restaurant\n",
      "🎉 Activity: Addis Ababa Ethnological Museum Tour\n",
      "🍽️ Dinner: Have dinner at Makush Art Gallery & Italian Restaurant\n",
      "----------------------------------------\n",
      "Enjoy your journey and make wonderful memories! 😊\n",
      "----------------------------------------\n",
      "🌟 Top 5 Hotels Around Addis Ababa 🌟\n",
      "\n",
      "1. **Capital Hotel And Spa**\n",
      "   - Star Rating: ⭐⭐⭐⭐⭐ (5)\n",
      "   - Price Per Night: $$11,400.00\n",
      "   - Amenities: restaurant, free, breakfast, swimming, pool, free, wifi, gym, cctv, camera, freetaxiservice, laundryservice, parkinglot, television, doublebed, twinbed, airconditioner, bathroom, refrigerator\n",
      "\n",
      "----------------------------------------\n",
      "2. **Sheraton Addis Hotel**\n",
      "   - Star Rating: ⭐⭐⭐⭐⭐ (5)\n",
      "   - Price Per Night: $$12,990.00\n",
      "   - Amenities: restaurant, free, breakfast, pizza, burger, bicycle, riding, board, games, swimming, pool, free, wifi, cctv, camera, children, activities, freetaxiservice, atm, onsite, laundryservice, parkinglot, television, doublebed, twinbed, airconditioner, bathroom, telephone, refrigerator, showerchair\n",
      "\n",
      "----------------------------------------\n",
      "3. **Hilton Hotel**\n",
      "   - Star Rating: ⭐⭐⭐⭐⭐ (5)\n",
      "   - Price Per Night: $$12,996.00\n",
      "   - Amenities: restaurant, free, breakfast, table, tennis, bicycle, riding, board, games, swimming, pool, free, wifi, cctv, camera, children, activities, freetaxiservice, laundryservice, parkinglot, television, doublebed, twinbed, airconditioner, bathroom, showerchair\n",
      "\n",
      "----------------------------------------\n",
      "4. **Radisson Hotel**\n",
      "   - Star Rating: ⭐⭐⭐⭐⭐ (5)\n",
      "   - Price Per Night: $$12,450.00\n",
      "   - Amenities: restaurant, table, tennis, swimming, pool, free, cancellation, free, wifi, gym, cctv, camera, children, activities, freetaxiservice, atm, onsite, laundryservice, parkinglot, television, doublebed, twinbed, airconditioner, bathroom, showerchair\n",
      "\n",
      "----------------------------------------\n",
      "5. **Ethiopian Skylight**\n",
      "   - Star Rating: ⭐⭐⭐⭐⭐ (5)\n",
      "   - Price Per Night: $$7,600.00\n",
      "   - Amenities: restaurant, free, breakfast, pizza, burger, horseback, riding, bicycle, riding, board, games, swimming, pool, free, wifi, gym, cctv, camera, children, activities, freetaxiservice, atm, onsite, laundryservice, parkinglot, television, doublebed, twinbed, airconditioner, bathroom, telephone, refrigerator\n",
      "\n",
      "----------------------------------------\n",
      "🍽️ Top 5 Restaurants Around Addis Ababa 🍽️\n",
      "\n",
      "1. **The Kitchen**\n",
      "   - Rating: ⭐⭐⭐⭐⭐ (5.0)\n",
      "\n",
      "   - Cuisine: Mediterranean, Healthy, Middle Eastern\n",
      "\n",
      "6. **Kaffa House**\n",
      "   - Rating: ⭐⭐⭐⭐⭐ (5.0)\n",
      "\n",
      "   - Cuisine: International, Chinese, Indian, African, Ethiopian\n",
      "\n",
      "23. **Cascara Coffee & Cocktail's**\n",
      "   - Rating: ⭐⭐⭐⭐⭐ (5.0)\n",
      "\n",
      "   - Cuisine: Bar\n",
      "\n",
      "26. **The Oriental**\n",
      "   - Rating: ⭐⭐⭐⭐⭐ (5.0)\n",
      "\n",
      "   - Cuisine: Asian\n",
      "\n",
      "3. **Opium Restaurant**\n",
      "   - Rating: ⭐⭐⭐⭐⭐ (5.0)\n",
      "\n",
      "   - Cuisine: Fast Food\n",
      "\n"
     ]
    }
   ],
   "source": [
    "import random  \n",
    "\n",
    "class TripItineraryGenerator:\n",
    "    def __init__(self):\n",
    "        self.destinations = ['Addis Ababa', 'Mekele', 'Axum', 'Harar', 'Bahirdar', 'Lalibela', 'Adigrat']\n",
    "        \n",
    "        self.trip_interests = ['Sights & Landmarks', 'History', 'Nature & Wildlife', 'Adventure']\n",
    "\n",
    "        self.trip_interests_mapping = {\n",
    "                \"Addis Ababa\": {\n",
    "                    'Sights & Landmarks': ['Explore the Danakil Depression in 6 Days', 'Day trip to Adadi Mariyam and Melka kunture', 'Full Day Private Tour of to Meskel Square', 'Visit The Mausoleum of Menelik II', 'Full Day Tour of Yekatit 12 Martyrs Square with Hotel Pickup and Dropoff', 'Addis Ababa Guided City Tour With Airport & Hotel Pick Up', 'Visit Karls Square'],\n",
    "                    'History': ['Discover Red Terror Martyrs Memorial Museum', 'Full Day Tour of National Museum of Ethiopia with Hotel Pickup and Dropoff', 'Addis Ababa Ethnological Museum Tour', 'Visit to Entoto Maryam Church', 'Learn about nature and Ethiopian history and culture at Unity Park Addis Ababa with Hotel Pickup & Dropoff Included', 'Addis Ababa City Tour to Menelik palace', 'Discover the Specialty PanAfrican museum located in Addis Ababas historic Arada district Expect a truly one of a kind memorable experience', 'Addis Ababa Guided Museum Tour With Hotel Pick Up', 'See Zoma Museum'],\n",
    "                    'Nature & Wildlife': ['Mount Entoto Full Day Tour with Hotel Pickup and Dropoff', 'Day Trip To Menagesha Suba Forest', 'Day Trip To Gullele Botanical Garden'],\n",
    "                    'Adventure': ['Horseriding experience in the hills surrounding Addis Ababa Come to the ranch to explore nature in its best on trails through the forest learn how to ride or simply get away from the city for a bit Nestled in the Sululta hills 4 kilometers above the capital city with 5 hectares of land', 'Some outdoor activities with Abyssinia Balloon rides', 'Adventure Theme Park at Kuriftu Resort Entoto', 'Addis Ababa City Danakil Depression Tours', 'Rent a car and drive to Portuguese Bridge (110km from Addis Ababa)', 'Ethio North Trekking Come and discover the thrills of Ethiopia with Bale Mountains'],\n",
    "                },\n",
    "                \"Mekele\": {\n",
    "                    'Sights & Landmarks': ['Go see The Martyrs Memorial Monument'],\n",
    "                    'History': ['Visit to Emperor Yohannes IV Palace'],\n",
    "                    'Nature & Wildlife': ['Two Days Tour of Gheralta Rock', 'Four (4) Days tour of Lake Assale'],\n",
    "                    'Adventure': ['Ethio Cycling Tour'],\n",
    "                },\n",
    "                \"Axum\": {\n",
    "                    'Sights & Landmarks': ['Explore North Ethiopia Discover King Ezanas Inscription', 'Explore North Ethiopia Visit Church of Our Lady Mary of Zion', 'Discover The Tombs of Kings Kaleb and Gebre Meskal'],\n",
    "                    'History': ['Day Trip in Axum to discover the remains of once powerful royal capital contain impressive tombs and stelae Ruins of Aksum', 'Explore Church of Our Lady Mary of Zion rumored to be the hiding place of the biblical Lost Ark', 'Discover Queen of Shebas Palace in Axum tall carved obelisks relics of the ancient Kingdom of Aksum'],\n",
    "                    'Nature & Wildlife': ['Trip interest not found for this location'],\n",
    "                    'Adventure': ['15 Days trekking To Simen Mountains', 'Discover Ezana Park'],\n",
    "                },\n",
    "                \"Harar\": {\n",
    "                    'Sights & Landmarks': ['Harrar tour to see Harar Jegol Wall'],\n",
    "                    'History': ['Explore Casa Museo di Rimbaud', 'Visit Harar Museum Eastern Ethiopia'],\n",
    "                    'Nature & Wildlife': ['Trip interest not found for this location'],\n",
    "                    'Adventure': ['Trip interest not found for this location'],\n",
    "                },\n",
    "                \"Bahirdar\": {\n",
    "                    'Sights & Landmarks': ['Visit Monastery of Debre Mariam', 'Visit Azwa Mariam Monastery'],\n",
    "                    'History': ['Explore Church of Debre Sina Maryam'],\n",
    "                    'Nature & Wildlife': ['Bahir Dar Tour of Lake Tana', 'Day trip to Blue Nile Falls'],\n",
    "                    'Adventure': ['Bahir Dar Bike Tour'],\n",
    "                },\n",
    "                \"Lalibela\": {\n",
    "                    'Sights & Landmarks': ['Lalibela Rock Churches Guided Tour', 'Visit Monastery of Naakuto Laab', 'Visit The Tomb of Adam', 'Visit Bilbala St George Rock Hewn Church', 'Visit Biete Medhane Alem', 'Visit Rock Hewn Churches'],\n",
    "                    'History': ['Visit The church of Yemrehanna Kristos is one of Ethiopias best preserved late Axumite churches', '3 days tour to Lalibela Asheton Maryam Monastery'],\n",
    "                    'Nature & Wildlife': ['Abune Yosef Conservation Area Trekking Tour from Lalibela'],\n",
    "                    'Adventure': ['Adventure Theme Park at Kuriftu Resort Entoto', 'Have fun trekking To Simen Mountains with Lalibela Eco Trekking Tours', 'Some outdoor activities with Abyssinia Balloon rides'],\n",
    "                },\n",
    "                \"Adigrat\": {\n",
    "                    'Sights & Landmarks': ['Trip interest not found for this location'],\n",
    "                    'History': ['Two Days Trip to learn about Monastery of Debre Damo'],\n",
    "                    'Nature & Wildlife': ['Trip interest not found for this location'],\n",
    "                    'Adventure': ['Trip interest not found for this location'],\n",
    "                }\n",
    "            }\n",
    "\n",
    "        self.hotels = {\n",
    "            \"Addis Ababa\": ['Sheraton Addis Hotel', 'Heyday Hotel', 'Radisson Hotel', 'Intercontinental Hotel', 'Capital Hotel And Spa', 'Hilton Hotel', 'Hyatt Hotel', 'Ethiopian Skylight'],\n",
    "            \"Mekele\": ['Axum Hotel', 'Planet Hotel', 'Atse Yohannes Hotel', 'Moringa Hotel', 'Desta International Hotel', 'Mekelle Hotel', 'Romanat Hotel'],\n",
    "            \"Axum\": ['Africa Hotel', 'Armah Hotel', 'Consolar International Hotel', 'Brana Hotel', 'Axum Touring Hotel'],\n",
    "            \"Harar\": ['Rewda Waber Harari Cultural Guest House', 'Wonderland Hotel', 'Harar Ras Hotel', 'Heritage Plaza Hotel', 'Winta Hotel', 'Sumeya Hotel'],\n",
    "            \"Bahirdar\": ['Teferi Mokonnen Hotel', 'B&B The Annex', 'Delano Hotel & Spa', 'Jacaranda Hotel', 'Addis Amba Hotel', 'Wynn Hotel', 'Blue Nile Resort', 'Rahnile Hotel', 'Water Front Hotel', 'Lakemark Hotel'],\n",
    "            \"Lalibela\": ['Ancient Lalibela Hotel', 'Lal Hotel & Spa', 'Merkeza Hotel', 'Top Twelve Hotel', 'Honey Land Hotel', 'Holidays Hotel'],\n",
    "            \"Adigrat\": ['Eve Hotel', 'Hohoma Hotel', 'Gebreselassie Hotel', 'Canaan Hotel', 'Agamos Hotel', 'Agoro Lodge']\n",
    "            }\n",
    "\n",
    "        self.restaurants = {\n",
    "            \"Addis Ababa\": ['Verres en Vers', 'Sichuan Restaurant', 'La Mandoline', 'Villaverde Addis Ababa', '2000 Habesha Cultural Restaurant', 'The Oriental', 'Gusto Restaurant', 'Opium Restaurant', 'Louvre Grand Hotel', 'Dok Restaurant', 'Dashen Traditional Ethiopian Restaurant', 'Effoi Pizza', 'The Kitchen', 'Castelli Restaurant', 'OM Indian Bistro', 'Makush Art Gallery & Italian Restaurant', 'Lucy Lounge & Restaurant', 'Fendika Azmari Bet', 'Five Loaves', 'Kaffa House', 'Bait Al Mandi', 'Kategna Restaurant', 'Sishu', 'Aladdin Restaurant', 'Gazebo Restaurant on the Park', \"Cascara Coffee & Cocktails\"],\n",
    "            \"Mekele\": ['Samiel G/Slasse Gebru Restaurant', 'Beefmn Garden Bar and Restaurant', 'Karibu Kitchen', 'Geza Gerlase # 1', 'Grand Awash 2 Bar & Restaurant', 'Yordanos Restaurant', 'Elaz Coffee', 'Abay Cultural Restaurant', 'Makale Chinese Restaurant', 'Day to Day Traditional Restaurant', 'Natna Spot'],\n",
    "            \"Axum\": ['Africa Hotel', 'Central Cafe Pastry and Restaurant', 'AB Cultural Restaurant', 'Abinet Hotel', 'Aksum Classical Restaurant', 'Lucy Cultural Restaurant', 'Lucy Traditional Restaurant', 'Antica Special Cultural Restaurant', 'Kuda Juice & Pizzeria', 'AB Restaurant', 'Yeha Hotel'],\n",
    "            \"Harar\": ['Hirut', 'Ras Hotel Restaurant', 'Nadia Ousmail Ahmed', 'Abdulwasi Adus Cafe', 'Fresh Touch Bar & Restaurant'],\n",
    "            \"Bahirdar\": ['Bahir Dar Restaurant', 'Lemat Restaurant', 'Wude Coffee'],\n",
    "            \"Lalibela\": ['Old Abyssinia Lodge and Restaurant', 'Jerusalem Guest House', 'Roha Hotel Restaurant', 'Mountain View Hotel Bar & Restaurant', 'Lasta Café', 'Terrace Traditional Hall', 'Unique Restaurant', 'Seven Olives Hotel Restaurant', 'Segenet Cafe and Resturant', 'Sora Lodge Lalibela Restaurant', 'Alem Cooking Class Bar and Restaurant', 'Selina Restaurant', 'Maribela Hotel, Restaurant & Lounge', 'Zan-Seyoum Restaurant', 'Fikr Juice House', 'Ben Abeba', 'Kana Restaurant and Bar', 'Tg home style lalibela restaurant', 'Bisrat cafe', 'Panoramic View Hotel', 'Haset restaurant', \"Ma'ed Lalibela Restaurant\", 'Kana Restuarant and Bar'],\n",
    "            \"Adigrat\": ['Geza Gerelase Hotel']\n",
    "            }\n",
    "\n",
    "        self.activities = {\n",
    "            \"Addis Ababa\": ['Visit to Entoto Maryam Church', 'Addis Ababa Guided City Tour With Airport & Hotel Pick Up', 'Discover Red Terror Martyrs Memorial Museum', 'See Zoma Museum', 'Mount Entoto Full Day Tour with Hotel Pickup and Dropoff', 'Explore the Danakil Depression in 6 Days', 'Full Day Tour of National Museum of Ethiopia with Hotel Pickup and Dropoff', 'Horseriding experience in the hills surrounding Addis Ababa Come to the ranch to explore nature in its best on trails through the forest learn how to ride or simply get away from the city for a bit Nestled in the Sululta hills 4 kilometers above the capital city with 5 hectares of land', 'Learn about nature and Ethiopian history and culture at Unity Park Addis Ababa with Hotel Pickup & Dropoff Included', 'Visit Karls Square', 'Visit The Mausoleum of Menelik II', 'Rent a car and drive to Portuguese Bridge (110km from Addis Ababa)', 'Day Trip To Menagesha Suba Forest', 'Addis Ababa City Danakil Depression Tours', 'Ethio North Trekking Come and discover the thrills of Ethiopia with Bale Mountains', 'Day Trip To Gullele Botanical Garden', 'Addis Ababa Ethnological Museum Tour', 'Addis Ababa City Tour to Menelik palace', 'Day trip to Adadi Mariyam and Melka kunture', 'Addis Ababa Guided Museum Tour With Hotel Pick Up', 'Full Day Tour of Yekatit 12 Martyrs Square with Hotel Pickup and Dropoff', 'Adventure Theme Park at Kuriftu Resort Entoto', 'Full Day Private Tour of to Meskel Square', 'Discover the Specialty PanAfrican museum located in Addis Ababas historic Arada district Expect a truly one of a kind memorable experience', 'Some outdoor activities with Abyssinia Balloon rides'],\n",
    "            \"Mekele\": ['A day tour of Lake Assale', 'Ethio Cycling Tour', 'Two Days Tour of Gheralta Rock', 'Go see The Martyrs Memorial Monument', 'Visit to Emperor Yohannes IV Palace'],\n",
    "            \"Axum\": ['Discover Ezana Park', 'Explore Church of Our Lady Mary of Zion rumored to be the hiding place of the biblical \"Lost Ark', 'Day Trip in Axum to discover the remains of once powerful royal capital contain impressive tombs and stelae Ruins of Aksum', 'Explore North Ethiopia Discover King Ezanas Inscription', 'Discover The Tombs of Kings Kaleb and Gebre Meskal', '15 Days trekking To Simen Mountains', 'Explore North Ethiopia Visit Church of Our Lady Mary of Zion', 'Discover Queen of Shebas Palace in Axum tall carved obelisks relics of the ancient Kingdom of Aksum'],\n",
    "            \"Harar\": ['Explore Casa Museo di Rimbaud', 'Visit Harar Museum Eastern Ethiopia', 'Visit Joel Harar Tour', 'Lalibela Omo Valley and Harrar tour to see Harar Jegol Wall'],\n",
    "            \"Bahirdar\": ['Bahir Dar Bike Tour', 'Explore Church of Debre Sina Maryam', 'Visit Monastery of Debre Mariam', 'Day trip to Bahir dar To visit lake tana monasteries and Blue Nile Falls', 'Bahir Dar Tour of Lake Tana', 'Visit Azwa Mariam Monastery'],\n",
    "            \"Lalibela\": ['3 days tour to Lalibela Asheton Maryam Monastery', 'Visit Monastery of Na’akuto La’ab', 'Hiking & Camping at Lalibela Rock Churches Guided Tour', 'Visit Rock Hewn Churches', 'Visit The church of Yemrehanna Kristos is one of Ethiopias best preserved late Axumite churches', 'Visit Biete Medhane Alem', 'Lalibela Eco Trekking Tours', '4 Day Abune Yosef Conservation Area Trekking Tour from Lalibela', 'Visit Bilbala St George Rock Hewn Church', 'Lalibela Rock Churches Guided Tour', 'Visit The Tomb of Adam'],\n",
    "            \"Adigrat\": ['Two Days Trip to learn about Monastery of Debre Damo']\n",
    "            }\n",
    "\n",
    "        \n",
    "\n",
    "    def generate_itinerary(self, location, trip_length, trip_interest):\n",
    "        if location not in self.destinations:\n",
    "            return \"Location not found in destinations.\"\n",
    "\n",
    "        if trip_interest not in self.trip_interests:\n",
    "            return \"Trip interest not found.\"\n",
    "\n",
    "        location_interest_mapping = self.trip_interests_mapping.get(location)\n",
    "\n",
    "        if not location_interest_mapping:\n",
    "            return \"No activity recommendations for this location.\"\n",
    "\n",
    "        activities_for_interest = location_interest_mapping.get(trip_interest)\n",
    "\n",
    "        if not activities_for_interest:\n",
    "            return \"No activities found for this location and interest.\"\n",
    "\n",
    "        location_index = self.destinations.index(location)\n",
    "\n",
    "        # Sets to keep track of chosen hotels, restaurants, and activities\n",
    "        chosen_hotels = set()\n",
    "        chosen_restaurants = set()\n",
    "        chosen_activities = set()\n",
    "\n",
    "        itinerary = []\n",
    "\n",
    "        for day in range(1, trip_length + 1):\n",
    "            destination = location\n",
    "\n",
    "            # To choose a hotel that hasn't been chosen before\n",
    "            hotel = random.choice([h for h in self.hotels[location] if h not in chosen_hotels])\n",
    "            chosen_hotels.add(hotel)\n",
    "\n",
    "            # To choose a restaurant that hasn't been chosen before\n",
    "            restaurant = random.choice([r for r in self.restaurants[location] if r not in chosen_restaurants])\n",
    "            chosen_restaurants.add(restaurant)\n",
    "\n",
    "            # To choose an activity from the mapped activities\n",
    "            if activities_for_interest:\n",
    "                activity = random.choice(activities_for_interest)\n",
    "                chosen_activities.add(activity)\n",
    "            else:\n",
    "                activity = \"No activities available for this interest.\"\n",
    "\n",
    "            day_itinerary = {\n",
    "                \"Day\": day,\n",
    "                \"Destination\": destination,\n",
    "                \"Hotel\": hotel,\n",
    "                \"Restaurant\": restaurant,\n",
    "                \"Activity\": activity\n",
    "            }\n",
    "\n",
    "            itinerary.append(day_itinerary)\n",
    "\n",
    "        return itinerary\n",
    "\n",
    "    def recommend_hotels(self, location):\n",
    "        Hotel = pd.read_csv(\"hotels_in_ethiopia_data.csv\")\n",
    "\n",
    "        # Make sure 'Location' column is in lowercase for comparison\n",
    "        Hotel['Location'] = Hotel['Location'].str.lower()\n",
    "        Hotel['Amenities'] = Hotel['Amenities'].str.replace(',', '')\n",
    "        Hotel['Amenities'] = Hotel['Amenities'].str.lower()\n",
    "\n",
    "        # Filter hotels for the specified location\n",
    "        citybase = Hotel[Hotel['Location'] == location.lower()]\n",
    "        citybase = citybase.sort_values(by='Star', ascending=False)\n",
    "\n",
    "        if not citybase.empty:\n",
    "            print(f\"🌟 Top 5 Hotels Around {location} 🌟\\n\")\n",
    "            for idx, row in citybase.head(5).iterrows():\n",
    "                print(f\"{idx + 1}. **{row['Hotel']}**\")\n",
    "                print(f\"   - Star Rating: {'⭐' * int(row['Star'])} ({row['Star']})\")\n",
    "                print(f\"   - Price Per Night: ${row['Price Per Night']}\")\n",
    "                amenities = row['Amenities'].split()\n",
    "                print(f\"   - Amenities: {', '.join(amenities)}\\n\")\n",
    "                print(\"-\" * 40)\n",
    "        else:\n",
    "            print('No Hotels Available')\n",
    "        return citybase.head(5)['Hotel'].tolist()\n",
    "\n",
    "    def recommend_restaurants(self, location):\n",
    "        Restaurant = pd.read_csv(\"restaurants_in_ethiopia.csv\")\n",
    "        \n",
    "        Restaurant['city']=Restaurant['city'].str.lower()\n",
    "        \n",
    "        citybase=Restaurant[Restaurant['city']==location.lower()]\n",
    "        citybase=citybase.sort_values(by='rating',ascending=False)\n",
    "        if not citybase.empty:\n",
    "            print(f\"🍽️ Top 5 Restaurants Around {location} 🍽️\\n\")\n",
    "            for idx, row in citybase.head(5).iterrows():\n",
    "                print(f\"{idx + 1}. **{row['Restaurant']}**\")\n",
    "                print(f\"   - Rating: {'⭐' * int(row['rating'])} ({row['rating']:.1f})\\n\")\n",
    "                print(f\"   - Cuisine: {row['cuisine']}\\n\")\n",
    "        else:\n",
    "            print('No Restaurants Available')\n",
    "        return citybase.head(5)['Restaurant'].tolist()\n",
    "\n",
    "\n",
    "itinerary_generator = TripItineraryGenerator()\n",
    "\n",
    "# User input\n",
    "location = \"Addis Ababa\"  \n",
    "trip_length = 3  \n",
    "trip_interest = \"History\"  \n",
    "\n",
    "\n",
    "# Generate the itinerary\n",
    "itinerary = itinerary_generator.generate_itinerary(location, trip_length, trip_interest)\n",
    "\n",
    "# Print the itinerary\n",
    "print(f\"🌍 Welcome to your exciting trip to {location}! 🌍\")\n",
    "print(\"Here's your personalized travel itinerary:\")\n",
    "print(\"-\" * 40)\n",
    "\n",
    "for day in itinerary:\n",
    "    print(f\"🗓️ Day {day['Day']} - {day['Destination']} Adventures:\")\n",
    "    print(f\"🏨 Hotel: Stay at {day['Hotel']}\")\n",
    "    print(f\"🍽️ Lunch: Eat at {day['Restaurant']}\")\n",
    "    print(f\"🎉 Activity: {day['Activity']}\")\n",
    "    print(f\"🍽️ Dinner: Have dinner at {day['Restaurant']}\")\n",
    "    print(\"-\" * 40)\n",
    "\n",
    "print(\"Enjoy your journey and make wonderful memories! 😊\")\n",
    "print(\"-\" * 40)\n",
    "\n",
    "# Recommend hotels for the same location\n",
    "recommended_hotels = itinerary_generator.recommend_hotels(location)\n",
    "recommended_restaurants = itinerary_generator.recommend_restaurants(location)"
   ]
  },
  {
   "cell_type": "code",
   "execution_count": 18,
   "id": "e304ee59",
   "metadata": {},
   "outputs": [],
   "source": [
    "file_path = \"model.pkl\""
   ]
  },
  {
   "cell_type": "code",
   "execution_count": 19,
   "id": "c0eaf6d5",
   "metadata": {},
   "outputs": [
    {
     "name": "stdout",
     "output_type": "stream",
     "text": [
      "Object saved as 'model.pkl'\n"
     ]
    }
   ],
   "source": [
    "with open(file_path, \"wb\") as file:\n",
    "    pickle.dump(itinerary, file)\n",
    "\n",
    "print(f\"Object saved as '{file_path}'\")"
   ]
  },
  {
   "cell_type": "code",
   "execution_count": null,
   "id": "fc5db432",
   "metadata": {},
   "outputs": [],
   "source": []
  }
 ],
 "metadata": {
  "kernelspec": {
   "display_name": "Python 3 (ipykernel)",
   "language": "python",
   "name": "python3"
  },
  "language_info": {
   "codemirror_mode": {
    "name": "ipython",
    "version": 3
   },
   "file_extension": ".py",
   "mimetype": "text/x-python",
   "name": "python",
   "nbconvert_exporter": "python",
   "pygments_lexer": "ipython3",
   "version": "3.11.3"
  }
 },
 "nbformat": 4,
 "nbformat_minor": 5
}
